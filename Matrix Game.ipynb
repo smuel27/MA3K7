{
 "cells": [
  {
   "cell_type": "code",
   "execution_count": 1,
   "metadata": {},
   "outputs": [],
   "source": [
    "from itertools import combinations\n",
    "import matplotlib.pyplot as plt\n",
    "import numpy as np\n",
    "import random"
   ]
  },
  {
   "cell_type": "code",
   "execution_count": 11,
   "metadata": {},
   "outputs": [
    {
     "data": {
      "image/png": "[encoded data removed]",
      "text/plain": [
       "<Figure size 432x288 with 1 Axes>"
      ]
     },
     "metadata": {
      "needs_background": "light"
     },
     "output_type": "display_data"
    }
   ],
   "source": [
    "def generate_matrices(n):\n",
    "    all_positions = range(n * n)\n",
    "    zero_positions = list(combinations(all_positions, n * n // 2 + n * n % 2))\n",
    "    \n",
    "    zero_determinants = 0 \n",
    "    for zero_pos in zero_positions:\n",
    "        matrix = np.ones(n * n, dtype=int)\n",
    "        for pos in zero_pos:\n",
    "            matrix[pos] = 0\n",
    "        matrix = matrix.reshape(n, n)\n",
    "        if np.linalg.det(matrix) == 0:\n",
    "            zero_determinants += 1\n",
    "    percentage = (zero_determinants / len(zero_positions)) * 100\n",
    "    return percentage\n",
    "\n",
    "x_values = np.array([2, 3, 4, 5])\n",
    "y_values = [generate_matrices(x) for x in x_values]\n",
    "\n",
    "plt.bar(x_values, y_values)\n",
    "plt.xlabel('n')\n",
    "plt.ylabel('Percentage Wins')\n",
    "plt.ylim([0, 100])\n",
    "plt.xticks(x_values)\n",
    "plt.title('Plot Percentage Wins with Random Strategy')\n",
    "plt.show()"
   ]
  },
  {
   "cell_type": "code",
   "execution_count": 16,
   "metadata": {},
   "outputs": [
    {
     "name": "stdout",
     "output_type": "stream",
     "text": [
      "Current matrix:\n",
      "[None, None, None]\n",
      "[None, None, None]\n",
      "[None, None, None]\n",
      "Current matrix:\n",
      "[0, None, None]\n",
      "[1, None, None]\n",
      "[None, None, None]\n",
      "Current matrix:\n",
      "[0, 0, None]\n",
      "[1, None, None]\n",
      "[None, 1, None]\n",
      "Current matrix:\n",
      "[0, 0, 0]\n",
      "[1, None, None]\n",
      "[None, 1, 1]\n",
      "Current matrix:\n",
      "[0, 0, 0]\n",
      "[1, 0, 1]\n",
      "[None, 1, 1]\n",
      "Final matrix:\n",
      "[0, 0, 0]\n",
      "[1, 0, 1]\n",
      "[0, 1, 1]\n",
      "Determinant: 0.0\n",
      "You Won !\n"
     ]
    }
   ],
   "source": [
    "def player_move(matrix):\n",
    "    print(\"Current matrix:\")\n",
    "    for row in matrix:\n",
    "        print(row)\n",
    "    while True:\n",
    "        try:\n",
    "            x, y = map(int, input(\"Enter the row and column to place a 0, separated by a space: \").split())\n",
    "            x -= 1  \n",
    "            y -= 1 \n",
    "            if matrix[x][y] is None:\n",
    "                matrix[x][y] = 0\n",
    "                break\n",
    "            else:\n",
    "                print(\"This cell is already filled. Please choose another.\")\n",
    "        except (ValueError, IndexError):\n",
    "            print(\"Invalid input. Please enter row and column as two numbers, separated by a space.\")\n",
    "\n",
    "def computer_move(matrix):\n",
    "    empty_cells = [(i, j) for i in range(len(matrix)) for j in range(len(matrix)) if matrix[i][j] is None]\n",
    "    if empty_cells:\n",
    "        x, y = random.choice(empty_cells)\n",
    "        matrix[x][y] = 1\n",
    "\n",
    "def play_matrix_game(n):\n",
    "    matrix = [[None for _ in range(n)] for _ in range(n)]\n",
    "    player_choice = input(\"Do you want to go first or second?: \").strip().lower()\n",
    "    if player_choice not in ['first', 'second']:\n",
    "        print(\"Invalid choice. You must choose 'first' or 'second'.\")\n",
    "        return\n",
    "    moves = 0\n",
    "    player_turn = player_choice == 'first'\n",
    "    while moves < n * n:\n",
    "        if player_turn:\n",
    "            player_move(matrix)\n",
    "        else:\n",
    "            computer_move(matrix)\n",
    "        player_turn = not player_turn\n",
    "        moves += 1\n",
    "    print(\"Final matrix:\")\n",
    "    for row in matrix:\n",
    "        print(row)\n",
    "    print(f\"Determinant: {np.linalg.det(np.array(matrix))}\")\n",
    "    if np.linalg.det(np.array(matrix)) == 0:\n",
    "        print(\"You Won !\")\n",
    "    else:\n",
    "        print(\"Computer wins :( \")\n",
    "\n",
    "play_matrix_game(3)"
   ]
  }
 ],
 "metadata": {
  "kernelspec": {
   "display_name": "base",
   "language": "python",
   "name": "python3"
  },
  "language_info": {
   "codemirror_mode": {
    "name": "ipython",
    "version": 3
   },
   "file_extension": ".py",
   "mimetype": "text/x-python",
   "name": "python",
   "nbconvert_exporter": "python",
   "pygments_lexer": "ipython3",
   "version": "3.9.7"
  }
 },
 "nbformat": 4,
 "nbformat_minor": 2
}
